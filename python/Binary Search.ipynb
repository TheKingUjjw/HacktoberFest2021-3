{
 "cells": [
  {
   "cell_type": "code",
   "execution_count": 4,
   "metadata": {},
   "outputs": [
    {
     "name": "stdout",
     "output_type": "stream",
     "text": [
      "52\n",
      "Preset\n"
     ]
    }
   ],
   "source": [
    "def binarysearch(a,start,end):\n",
    "    n = int(input())\n",
    "    while(start <= end):\n",
    "        mid = (start+end)//2\n",
    "        if(n == a[mid]):\n",
    "            return mid\n",
    "        elif(n < a[mid]):\n",
    "            end = mid-1\n",
    "        else:\n",
    "            start = mid+1\n",
    "    return -1\n",
    "l = [1,2,4,5,8,10,4,78,52,15,62,12]\n",
    "p = binarysearch(l,0,len(l)-1)\n",
    "if(p == -1): print(\"Not Present\")\n",
    "else: print(\"Preset\")"
   ]
  },
  {
   "cell_type": "code",
   "execution_count": null,
   "metadata": {},
   "outputs": [],
   "source": []
  }
 ],
 "metadata": {
  "kernelspec": {
   "display_name": "Python 3",
   "language": "python",
   "name": "python3"
  },
  "language_info": {
   "codemirror_mode": {
    "name": "ipython",
    "version": 3
   },
   "file_extension": ".py",
   "mimetype": "text/x-python",
   "name": "python",
   "nbconvert_exporter": "python",
   "pygments_lexer": "ipython3",
   "version": "3.7.6"
  }
 },
 "nbformat": 4,
 "nbformat_minor": 4
}
